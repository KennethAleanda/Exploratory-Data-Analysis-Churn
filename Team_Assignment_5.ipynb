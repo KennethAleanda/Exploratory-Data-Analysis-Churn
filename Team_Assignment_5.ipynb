{
 "cells": [
  {
   "cell_type": "markdown",
   "metadata": {},
   "source": [
    "## Team Assignment 5\n",
    "***Anggota :***\n",
    "- Kenneth Aleanda\n",
    "- Ivanka Larasati\n",
    "- Juny Astuti\n",
    "- Aldira Putri\n"
   ]
  },
  {
   "cell_type": "markdown",
   "metadata": {},
   "source": [
    "### 1. Cari Dataset, yg berkaitan dg bisnis (Bisa gunakan dataset dari tugas sebelumnya). "
   ]
  },
  {
   "cell_type": "markdown",
   "metadata": {},
   "source": [
    "Dataset yang digunakan adalah Dataset yang sama dengan Tugas Kelompok Milestone II yaitu, **Customer Behaviour Analysis**\n",
    "\n",
    "Customer Behavior Analysis melibatkan studi dan pemahaman tentang bagaimana konsumen berinteraksi dengan produk atau layanan. Analisis ini membantu bisnis memperoleh wawasan tentang preferensi pelanggan, pola pembelian, proses pengambilan keputusan, dan kepuasan secara keseluruhan. \n",
    "\n",
    "\n",
    "[Link Dataset **Customer Behaviour Analysis**](https://www.kaggle.com/datasets/bhanupratapbiswas/customer-behavior-analysis/data \"https://www.kaggle.com/datasets/bhanupratapbiswas/customer-behavior-analysis/data\")"
   ]
  },
  {
   "cell_type": "markdown",
   "metadata": {},
   "source": [
    "### 2. Setiap kelompok harus berbeda Kasus. "
   ]
  },
  {
   "cell_type": "markdown",
   "metadata": {},
   "source": [
    "### 3. Perkuat Domain Knowledge – Business Knowledge "
   ]
  },
  {
   "cell_type": "markdown",
   "metadata": {},
   "source": [
    "### 4. Buat Konteks dari Kasus – Business Understanding"
   ]
  },
  {
   "cell_type": "markdown",
   "metadata": {},
   "source": [
    "Customer Behavior Analysis melibatkan studi dan pemahaman tentang bagaimana konsumen berinteraksi dengan produk atau layanan. Analisis ini membantu bisnis memperoleh wawasan tentang preferensi pelanggan, pola pembelian, proses pengambilan keputusan, dan kepuasan secara keseluruhan.   \n",
    "Churn adalah percentage dari customer yang berhenti melakukan business kepada suatu perusahaan pada periode waktu tertentu. Churn merupakan metric penting karena ini membantu perusahaan dalam memahami customer retention dan efektivitas dari strategi interaksi pelanggan.  \n",
    "Churn biasa di kalkulasi sebagai angka customer yang hilang pada suatu periode dibagi banyaknya customer pada awal periode\n"
   ]
  },
  {
   "cell_type": "markdown",
   "metadata": {},
   "source": [
    "### 5. Tentukan Bisnis Problem yg akan dipecahkan "
   ]
  },
  {
   "cell_type": "markdown",
   "metadata": {},
   "source": [
    "Churn (Customer Lost)\n",
    "Customer Churn merupakan hal yang buruk karena ini berarti kita kehilangan customer daripada mempertahankannya. \n",
    "Reasons :   \n",
    "- Lebih sedikit pelanggan berarti revenue yang lebih kecil\n",
    "- Customer yang tidak puas tidak akan merujuk ke bisnis kita\n",
    "- Mendapatkan customer baru lebih mahal. Lebih hemat biaya untuk mempertahankan Pelanggan saat ini (from 5x up to 25x more expensive)\n",
    "  \n",
    "Source:   \n",
    "https://hbr.org/2014/10/the-value-of-keeping-the-right-customers   \n",
    "https://www.forbes.com/councils/forbesbusinesscouncil/2022/12/12/customer-retention-versus-customer-acquisition/   \n"
   ]
  },
  {
   "cell_type": "markdown",
   "metadata": {},
   "source": [
    "### 6. Tentukan Stakeholder atau Audiens nya (Jenis perusahaannya & Departemen/Divisi dari Audiens nya) "
   ]
  },
  {
   "cell_type": "markdown",
   "metadata": {},
   "source": [
    "\n",
    "Berdasarkan analisis kami terhadap kumpulan data, kami telah mengidentifikasi bahwa audiens utama :   \n",
    "- Tim Pemasaran: Membuat strategi untuk mempertahankan pelanggan.\n",
    "- Tim Customer Service: Memahami masalah yang sering dialami pelanggan agar bisa meningkatkan kualitas layanan. "
   ]
  },
  {
   "cell_type": "markdown",
   "metadata": {},
   "source": [
    "### 7. Jelaskan Kenapa Masalah ini harus dipecahkan, Urgensi nya apa? \n"
   ]
  },
  {
   "cell_type": "markdown",
   "metadata": {},
   "source": [
    "Churn rate setiap tahunnya perlahan-lahan naik, dari 4 tahun Terakhir Churn sudah Meningkat 0,32%.  \n",
    "\n",
    "Dari hampir 50 ribu customer 0,32% atau sekitar ~160 pelanggan setiap tahunnya. Dengan Churn rate yang saat ini sudah lumayan besar (20%) Kehilangan 0,32% pelanggan setiap tahunnya akan berdampak significant  \n"
   ]
  },
  {
   "cell_type": "markdown",
   "metadata": {
    "vscode": {
     "languageId": "plaintext"
    }
   },
   "source": [
    "### 8. Tentukan Goals dari Project "
   ]
  },
  {
   "cell_type": "markdown",
   "metadata": {},
   "source": [
    "-  Menentukan Faktor / Variabel yang Menyebabkan Churn?   \n",
    "Perusahaan ingin mengetahui faktor-faktor utama yang menyebabkan pelanggan berhenti berbelanja (Churn), misalnya apakah umur, produk tertentu, atau metode pembayaran tertentu lebih cenderung menyebabkan churn.  \n",
    "- Menentukan Hal yang dapat diimplementasikan untuk mengurangi Churn?    \n",
    "Bagaimana perusahaan dapat mengurangi tingkat churn dengan memanfaatkan pola pembelian pelanggan, preferensi pembayaran, dan kategori produk yang paling sering menyebabkan pelanggan berhenti berbelanja"
   ]
  },
  {
   "cell_type": "markdown",
   "metadata": {},
   "source": [
    "### 9. Buat Bisnis Question yg relevan (minimal 10)"
   ]
  },
  {
   "cell_type": "markdown",
   "metadata": {},
   "source": [
    "##### 1. Product Category apa yang paling banyak menghasilkan Churn   \n",
    "Menurut hasil analysis dibawah, seluruh prodduct Category memiliki churn rate yang hampir sama yaitu ~20%.\n",
    "tetapi karena jumlahnya Books merupakan Category dengan Churn terbanyak yaitu 14926, dan tidak jauh dibelakangnya adalah Clothing dengan 14898"
   ]
  },
  {
   "cell_type": "markdown",
   "metadata": {},
   "source": [
    "##### 2. Modus Quantity Pembelian dan Churn ratenya \n",
    "\n",
    "Menuruh hasil analysis dibawah, modus quantity pembelian adalah 1, dan churn rateny adalah 20.15%"
   ]
  },
  {
   "cell_type": "markdown",
   "metadata": {},
   "source": [
    "##### 3. Modus Payment Method dan Churn Ratenya\n",
    "\n",
    "Menurut hasil analysis dibawah, payment method yang ada memiliki churn rate yang hampir sama yaitu ~20%.\n",
    "tetapi karena jumlahnya (20084) credit card merupakan ~40% dari semua churn yang terjadi. "
   ]
  },
  {
   "cell_type": "markdown",
   "metadata": {},
   "source": [
    "##### 4. Apakah Return Memiliki korelasi dengan Churn"
   ]
  },
  {
   "cell_type": "markdown",
   "metadata": {},
   "source": [
    "Menurut hasil analysis dibawah, Return dan Churn memiliki nilai korelasi : 0.0014, dari sini bisa disimpulkan return hampir tidak memiiki korelasi dengan churn"
   ]
  },
  {
   "cell_type": "markdown",
   "metadata": {},
   "source": [
    "##### 5. Apakah Gender Memiliki korelasi dengan Churn "
   ]
  },
  {
   "cell_type": "markdown",
   "metadata": {},
   "source": [
    "Menurut hasil analysis dibawah, Gender dan Churn memiliki nilai p-value : 4.387131344662204e-05\n",
    "yang berarti null hypohtesis ditolak, dan berarti adanya asosiasii yang signifikan antara gender dan churn."
   ]
  },
  {
   "cell_type": "markdown",
   "metadata": {},
   "source": [
    "##### 6. Bulan yang Memiliki Churn rate Terbesar\n",
    "\n",
    "Menurut hasil analysis dibawah, bulan yang memiliki churn terbanyak adalah February with a churn rate of 20.34%"
   ]
  },
  {
   "cell_type": "markdown",
   "metadata": {},
   "source": [
    "##### 7. Modus Age customer dan Churn ratenya\n",
    "Menuruth hasil analysis dibawah, Modus Age Customer adalah 58 dengan churn rate 20.88%"
   ]
  },
  {
   "cell_type": "markdown",
   "metadata": {},
   "source": [
    "##### 8. Churn Rate tanpa oulier pada Product Price\n",
    "Menuruth hasil analysis dibawah, tanpa outlier pada product price churn ratenya adalah 19.94%"
   ]
  },
  {
   "cell_type": "markdown",
   "metadata": {},
   "source": [
    "##### 9. Churn Rate tanpa oulier pada Total Purchase Amount\n",
    "Menuruth hasil analysis dibawah, tanpa outlier pada product price churn ratenya adalah 19.94%"
   ]
  },
  {
   "cell_type": "markdown",
   "metadata": {},
   "source": [
    "##### 10. 10 Customer dengan yang paling sering Churn\n",
    "Michael Smith         = 107  \n",
    "John Smith            = 103  \n",
    "Jennifer Smith        = 102  \n",
    "Michael Johnson       = 98  \n",
    "Lisa Smith            = 97  \n",
    "James Smith           = 95  \n",
    "Christopher Smith     = 83  \n",
    "Michael Brown         = 79  \n",
    "James Brown           = 76  \n",
    "Jennifer Williams     = 74  "
   ]
  },
  {
   "cell_type": "markdown",
   "metadata": {
    "vscode": {
     "languageId": "plaintext"
    }
   },
   "source": [
    "### 10. Jika ada pendapat atau asumsi, harus berdasarkan data"
   ]
  },
  {
   "cell_type": "markdown",
   "metadata": {},
   "source": [
    "### 11. Setiap Code ada Tujuan & Informasi yg didapat "
   ]
  },
  {
   "cell_type": "markdown",
   "metadata": {},
   "source": [
    "#### Data Preparation / Cleaning"
   ]
  },
  {
   "cell_type": "markdown",
   "metadata": {},
   "source": [
    "##### Initialization"
   ]
  },
  {
   "cell_type": "code",
   "execution_count": 2,
   "metadata": {},
   "outputs": [],
   "source": [
    "import numpy as np\n",
    "import pandas as pd\n",
    "import matplotlib.pyplot as plt\n",
    "import seaborn as sns\n",
    "from scipy import stats\n",
    "\n",
    "df = pd.read_csv(\"ecommerce_customer_data_custom_ratios.csv\")"
   ]
  },
  {
   "cell_type": "code",
   "execution_count": 3,
   "metadata": {},
   "outputs": [
    {
     "data": {
      "text/html": [
       "<div>\n",
       "<style scoped>\n",
       "    .dataframe tbody tr th:only-of-type {\n",
       "        vertical-align: middle;\n",
       "    }\n",
       "\n",
       "    .dataframe tbody tr th {\n",
       "        vertical-align: top;\n",
       "    }\n",
       "\n",
       "    .dataframe thead th {\n",
       "        text-align: right;\n",
       "    }\n",
       "</style>\n",
       "<table border=\"1\" class=\"dataframe\">\n",
       "  <thead>\n",
       "    <tr style=\"text-align: right;\">\n",
       "      <th></th>\n",
       "      <th>Customer ID</th>\n",
       "      <th>Purchase Date</th>\n",
       "      <th>Product Category</th>\n",
       "      <th>Product Price</th>\n",
       "      <th>Quantity</th>\n",
       "      <th>Total Purchase Amount</th>\n",
       "      <th>Payment Method</th>\n",
       "      <th>Customer Age</th>\n",
       "      <th>Returns</th>\n",
       "      <th>Customer Name</th>\n",
       "      <th>Age</th>\n",
       "      <th>Gender</th>\n",
       "      <th>Churn</th>\n",
       "    </tr>\n",
       "  </thead>\n",
       "  <tbody>\n",
       "    <tr>\n",
       "      <th>0</th>\n",
       "      <td>46251</td>\n",
       "      <td>2020-09-08 09:38:32</td>\n",
       "      <td>Electronics</td>\n",
       "      <td>12</td>\n",
       "      <td>3</td>\n",
       "      <td>740</td>\n",
       "      <td>Credit Card</td>\n",
       "      <td>37</td>\n",
       "      <td>0.0</td>\n",
       "      <td>Christine Hernandez</td>\n",
       "      <td>37</td>\n",
       "      <td>Male</td>\n",
       "      <td>0</td>\n",
       "    </tr>\n",
       "    <tr>\n",
       "      <th>1</th>\n",
       "      <td>46251</td>\n",
       "      <td>2022-03-05 12:56:35</td>\n",
       "      <td>Home</td>\n",
       "      <td>468</td>\n",
       "      <td>4</td>\n",
       "      <td>2739</td>\n",
       "      <td>PayPal</td>\n",
       "      <td>37</td>\n",
       "      <td>0.0</td>\n",
       "      <td>Christine Hernandez</td>\n",
       "      <td>37</td>\n",
       "      <td>Male</td>\n",
       "      <td>0</td>\n",
       "    </tr>\n",
       "    <tr>\n",
       "      <th>2</th>\n",
       "      <td>46251</td>\n",
       "      <td>2022-05-23 18:18:01</td>\n",
       "      <td>Home</td>\n",
       "      <td>288</td>\n",
       "      <td>2</td>\n",
       "      <td>3196</td>\n",
       "      <td>PayPal</td>\n",
       "      <td>37</td>\n",
       "      <td>0.0</td>\n",
       "      <td>Christine Hernandez</td>\n",
       "      <td>37</td>\n",
       "      <td>Male</td>\n",
       "      <td>0</td>\n",
       "    </tr>\n",
       "    <tr>\n",
       "      <th>3</th>\n",
       "      <td>46251</td>\n",
       "      <td>2020-11-12 13:13:29</td>\n",
       "      <td>Clothing</td>\n",
       "      <td>196</td>\n",
       "      <td>1</td>\n",
       "      <td>3509</td>\n",
       "      <td>PayPal</td>\n",
       "      <td>37</td>\n",
       "      <td>0.0</td>\n",
       "      <td>Christine Hernandez</td>\n",
       "      <td>37</td>\n",
       "      <td>Male</td>\n",
       "      <td>0</td>\n",
       "    </tr>\n",
       "    <tr>\n",
       "      <th>4</th>\n",
       "      <td>13593</td>\n",
       "      <td>2020-11-27 17:55:11</td>\n",
       "      <td>Home</td>\n",
       "      <td>449</td>\n",
       "      <td>1</td>\n",
       "      <td>3452</td>\n",
       "      <td>Credit Card</td>\n",
       "      <td>49</td>\n",
       "      <td>0.0</td>\n",
       "      <td>James Grant</td>\n",
       "      <td>49</td>\n",
       "      <td>Female</td>\n",
       "      <td>1</td>\n",
       "    </tr>\n",
       "  </tbody>\n",
       "</table>\n",
       "</div>"
      ],
      "text/plain": [
       "   Customer ID        Purchase Date Product Category  Product Price  Quantity  \\\n",
       "0        46251  2020-09-08 09:38:32      Electronics             12         3   \n",
       "1        46251  2022-03-05 12:56:35             Home            468         4   \n",
       "2        46251  2022-05-23 18:18:01             Home            288         2   \n",
       "3        46251  2020-11-12 13:13:29         Clothing            196         1   \n",
       "4        13593  2020-11-27 17:55:11             Home            449         1   \n",
       "\n",
       "   Total Purchase Amount Payment Method  Customer Age  Returns  \\\n",
       "0                    740    Credit Card            37      0.0   \n",
       "1                   2739         PayPal            37      0.0   \n",
       "2                   3196         PayPal            37      0.0   \n",
       "3                   3509         PayPal            37      0.0   \n",
       "4                   3452    Credit Card            49      0.0   \n",
       "\n",
       "         Customer Name  Age  Gender  Churn  \n",
       "0  Christine Hernandez   37    Male      0  \n",
       "1  Christine Hernandez   37    Male      0  \n",
       "2  Christine Hernandez   37    Male      0  \n",
       "3  Christine Hernandez   37    Male      0  \n",
       "4          James Grant   49  Female      1  "
      ]
     },
     "execution_count": 3,
     "metadata": {},
     "output_type": "execute_result"
    }
   ],
   "source": [
    "df.head()"
   ]
  },
  {
   "cell_type": "markdown",
   "metadata": {},
   "source": [
    "##### Mengubah Column Purchase Date menjadi datetime"
   ]
  },
  {
   "cell_type": "code",
   "execution_count": 4,
   "metadata": {},
   "outputs": [],
   "source": [
    "df['Purchase Date'] = pd.to_datetime(df['Purchase Date'])"
   ]
  },
  {
   "cell_type": "markdown",
   "metadata": {},
   "source": [
    "##### Missing Values dan Duplikasi"
   ]
  },
  {
   "cell_type": "markdown",
   "metadata": {},
   "source": [
    "check datatype and value"
   ]
  },
  {
   "cell_type": "code",
   "execution_count": 5,
   "metadata": {},
   "outputs": [
    {
     "name": "stdout",
     "output_type": "stream",
     "text": [
      "<class 'pandas.core.frame.DataFrame'>\n",
      "RangeIndex: 250000 entries, 0 to 249999\n",
      "Data columns (total 13 columns):\n",
      " #   Column                 Non-Null Count   Dtype         \n",
      "---  ------                 --------------   -----         \n",
      " 0   Customer ID            250000 non-null  int64         \n",
      " 1   Purchase Date          250000 non-null  datetime64[ns]\n",
      " 2   Product Category       250000 non-null  object        \n",
      " 3   Product Price          250000 non-null  int64         \n",
      " 4   Quantity               250000 non-null  int64         \n",
      " 5   Total Purchase Amount  250000 non-null  int64         \n",
      " 6   Payment Method         250000 non-null  object        \n",
      " 7   Customer Age           250000 non-null  int64         \n",
      " 8   Returns                202404 non-null  float64       \n",
      " 9   Customer Name          250000 non-null  object        \n",
      " 10  Age                    250000 non-null  int64         \n",
      " 11  Gender                 250000 non-null  object        \n",
      " 12  Churn                  250000 non-null  int64         \n",
      "dtypes: datetime64[ns](1), float64(1), int64(7), object(4)\n",
      "memory usage: 24.8+ MB\n"
     ]
    }
   ],
   "source": [
    "df.info()"
   ]
  },
  {
   "cell_type": "markdown",
   "metadata": {},
   "source": [
    "check unique value"
   ]
  },
  {
   "cell_type": "code",
   "execution_count": 6,
   "metadata": {},
   "outputs": [
    {
     "data": {
      "text/plain": [
       "Customer ID               49673\n",
       "Purchase Date            249736\n",
       "Product Category              4\n",
       "Product Price               491\n",
       "Quantity                      5\n",
       "Total Purchase Amount      5247\n",
       "Payment Method                4\n",
       "Customer Age                 53\n",
       "Returns                       2\n",
       "Customer Name             39920\n",
       "Age                          53\n",
       "Gender                        2\n",
       "Churn                         2\n",
       "dtype: int64"
      ]
     },
     "execution_count": 6,
     "metadata": {},
     "output_type": "execute_result"
    }
   ],
   "source": [
    "df.nunique()"
   ]
  },
  {
   "cell_type": "markdown",
   "metadata": {},
   "source": [
    "check null value"
   ]
  },
  {
   "cell_type": "code",
   "execution_count": 7,
   "metadata": {},
   "outputs": [
    {
     "data": {
      "text/plain": [
       "Customer ID                  0\n",
       "Purchase Date                0\n",
       "Product Category             0\n",
       "Product Price                0\n",
       "Quantity                     0\n",
       "Total Purchase Amount        0\n",
       "Payment Method               0\n",
       "Customer Age                 0\n",
       "Returns                  47596\n",
       "Customer Name                0\n",
       "Age                          0\n",
       "Gender                       0\n",
       "Churn                        0\n",
       "dtype: int64"
      ]
     },
     "execution_count": 7,
     "metadata": {},
     "output_type": "execute_result"
    }
   ],
   "source": [
    "df.isnull().sum()"
   ]
  },
  {
   "cell_type": "markdown",
   "metadata": {},
   "source": [
    "drop duplicate column Age"
   ]
  },
  {
   "cell_type": "code",
   "execution_count": 8,
   "metadata": {},
   "outputs": [],
   "source": [
    "df.drop('Age', axis=1, inplace=True)"
   ]
  },
  {
   "cell_type": "markdown",
   "metadata": {},
   "source": [
    "fill Null return value with nol/false (karena jika ada return kemungkinan besar di inputkan sedangkan kebalikannya tidak)"
   ]
  },
  {
   "cell_type": "code",
   "execution_count": 9,
   "metadata": {},
   "outputs": [
    {
     "name": "stdout",
     "output_type": "stream",
     "text": [
      "jumlah kolom returns yang memiliki values : 250000\n"
     ]
    }
   ],
   "source": [
    "df['Returns'] = df['Returns'].fillna(value=0)\n",
    "print(f\"jumlah kolom returns yang memiliki values : {len(df[pd.notnull(df['Returns'])]['Returns'])}\")"
   ]
  },
  {
   "cell_type": "markdown",
   "metadata": {},
   "source": [
    "#### Data Analysis"
   ]
  },
  {
   "cell_type": "markdown",
   "metadata": {},
   "source": [
    "##### General Data Info"
   ]
  },
  {
   "cell_type": "code",
   "execution_count": 10,
   "metadata": {},
   "outputs": [
    {
     "data": {
      "text/html": [
       "<div>\n",
       "<style scoped>\n",
       "    .dataframe tbody tr th:only-of-type {\n",
       "        vertical-align: middle;\n",
       "    }\n",
       "\n",
       "    .dataframe tbody tr th {\n",
       "        vertical-align: top;\n",
       "    }\n",
       "\n",
       "    .dataframe thead th {\n",
       "        text-align: right;\n",
       "    }\n",
       "</style>\n",
       "<table border=\"1\" class=\"dataframe\">\n",
       "  <thead>\n",
       "    <tr style=\"text-align: right;\">\n",
       "      <th></th>\n",
       "      <th>Customer ID</th>\n",
       "      <th>Purchase Date</th>\n",
       "      <th>Product Price</th>\n",
       "      <th>Quantity</th>\n",
       "      <th>Total Purchase Amount</th>\n",
       "      <th>Customer Age</th>\n",
       "      <th>Returns</th>\n",
       "      <th>Churn</th>\n",
       "    </tr>\n",
       "  </thead>\n",
       "  <tbody>\n",
       "    <tr>\n",
       "      <th>count</th>\n",
       "      <td>250000.00000</td>\n",
       "      <td>250000</td>\n",
       "      <td>250000.000000</td>\n",
       "      <td>250000.000000</td>\n",
       "      <td>250000.000000</td>\n",
       "      <td>250000.000000</td>\n",
       "      <td>250000.000000</td>\n",
       "      <td>250000.000000</td>\n",
       "    </tr>\n",
       "    <tr>\n",
       "      <th>mean</th>\n",
       "      <td>25004.03624</td>\n",
       "      <td>2021-11-06 23:31:24.372304384</td>\n",
       "      <td>254.659512</td>\n",
       "      <td>2.998896</td>\n",
       "      <td>2725.370732</td>\n",
       "      <td>43.940528</td>\n",
       "      <td>0.403076</td>\n",
       "      <td>0.199496</td>\n",
       "    </tr>\n",
       "    <tr>\n",
       "      <th>min</th>\n",
       "      <td>1.00000</td>\n",
       "      <td>2020-01-01 00:15:00</td>\n",
       "      <td>10.000000</td>\n",
       "      <td>1.000000</td>\n",
       "      <td>100.000000</td>\n",
       "      <td>18.000000</td>\n",
       "      <td>0.000000</td>\n",
       "      <td>0.000000</td>\n",
       "    </tr>\n",
       "    <tr>\n",
       "      <th>25%</th>\n",
       "      <td>12497.75000</td>\n",
       "      <td>2020-12-02 19:33:23.249999872</td>\n",
       "      <td>132.000000</td>\n",
       "      <td>2.000000</td>\n",
       "      <td>1477.000000</td>\n",
       "      <td>31.000000</td>\n",
       "      <td>0.000000</td>\n",
       "      <td>0.000000</td>\n",
       "    </tr>\n",
       "    <tr>\n",
       "      <th>50%</th>\n",
       "      <td>25018.00000</td>\n",
       "      <td>2021-11-06 13:10:59</td>\n",
       "      <td>255.000000</td>\n",
       "      <td>3.000000</td>\n",
       "      <td>2724.000000</td>\n",
       "      <td>44.000000</td>\n",
       "      <td>0.000000</td>\n",
       "      <td>0.000000</td>\n",
       "    </tr>\n",
       "    <tr>\n",
       "      <th>75%</th>\n",
       "      <td>37506.00000</td>\n",
       "      <td>2022-10-11 03:42:32.750000128</td>\n",
       "      <td>377.000000</td>\n",
       "      <td>4.000000</td>\n",
       "      <td>3974.000000</td>\n",
       "      <td>57.000000</td>\n",
       "      <td>1.000000</td>\n",
       "      <td>0.000000</td>\n",
       "    </tr>\n",
       "    <tr>\n",
       "      <th>max</th>\n",
       "      <td>50000.00000</td>\n",
       "      <td>2023-09-15 12:24:08</td>\n",
       "      <td>500.000000</td>\n",
       "      <td>5.000000</td>\n",
       "      <td>5350.000000</td>\n",
       "      <td>70.000000</td>\n",
       "      <td>1.000000</td>\n",
       "      <td>1.000000</td>\n",
       "    </tr>\n",
       "    <tr>\n",
       "      <th>std</th>\n",
       "      <td>14428.27959</td>\n",
       "      <td>NaN</td>\n",
       "      <td>141.568577</td>\n",
       "      <td>1.414694</td>\n",
       "      <td>1442.933565</td>\n",
       "      <td>15.350246</td>\n",
       "      <td>0.490517</td>\n",
       "      <td>0.399622</td>\n",
       "    </tr>\n",
       "  </tbody>\n",
       "</table>\n",
       "</div>"
      ],
      "text/plain": [
       "        Customer ID                  Purchase Date  Product Price  \\\n",
       "count  250000.00000                         250000  250000.000000   \n",
       "mean    25004.03624  2021-11-06 23:31:24.372304384     254.659512   \n",
       "min         1.00000            2020-01-01 00:15:00      10.000000   \n",
       "25%     12497.75000  2020-12-02 19:33:23.249999872     132.000000   \n",
       "50%     25018.00000            2021-11-06 13:10:59     255.000000   \n",
       "75%     37506.00000  2022-10-11 03:42:32.750000128     377.000000   \n",
       "max     50000.00000            2023-09-15 12:24:08     500.000000   \n",
       "std     14428.27959                            NaN     141.568577   \n",
       "\n",
       "            Quantity  Total Purchase Amount   Customer Age        Returns  \\\n",
       "count  250000.000000          250000.000000  250000.000000  250000.000000   \n",
       "mean        2.998896            2725.370732      43.940528       0.403076   \n",
       "min         1.000000             100.000000      18.000000       0.000000   \n",
       "25%         2.000000            1477.000000      31.000000       0.000000   \n",
       "50%         3.000000            2724.000000      44.000000       0.000000   \n",
       "75%         4.000000            3974.000000      57.000000       1.000000   \n",
       "max         5.000000            5350.000000      70.000000       1.000000   \n",
       "std         1.414694            1442.933565      15.350246       0.490517   \n",
       "\n",
       "               Churn  \n",
       "count  250000.000000  \n",
       "mean        0.199496  \n",
       "min         0.000000  \n",
       "25%         0.000000  \n",
       "50%         0.000000  \n",
       "75%         0.000000  \n",
       "max         1.000000  \n",
       "std         0.399622  "
      ]
     },
     "execution_count": 10,
     "metadata": {},
     "output_type": "execute_result"
    }
   ],
   "source": [
    "df.describe()"
   ]
  },
  {
   "cell_type": "markdown",
   "metadata": {},
   "source": [
    "##### Corelasi Churn Dengan Column lainnya"
   ]
  },
  {
   "cell_type": "markdown",
   "metadata": {},
   "source": [
    "Churn Dengan Column-Column Numeric"
   ]
  },
  {
   "cell_type": "code",
   "execution_count": 11,
   "metadata": {},
   "outputs": [
    {
     "data": {
      "image/png": "[encoded data removed]",
      "text/plain": [
       "<Figure size 640x480 with 2 Axes>"
      ]
     },
     "metadata": {},
     "output_type": "display_data"
    }
   ],
   "source": [
    "correlation_matrix = df.corr(numeric_only=True)\n",
    "sns.heatmap(correlation_matrix, annot=True, cmap='coolwarm')\n",
    "plt.title('Correlation Matrix')\n",
    "plt.show()"
   ]
  },
  {
   "cell_type": "markdown",
   "metadata": {},
   "source": [
    "Berdasarkan heatmap, column Customer ID, Product Price, Quantity, Total Purchase Amount, Customer Age, dan Return tidak memiliki corelasi yang signficant terhadap Churn"
   ]
  },
  {
   "cell_type": "markdown",
   "metadata": {},
   "source": [
    "##### Payment Method dan Churn"
   ]
  },
  {
   "cell_type": "code",
   "execution_count": 12,
   "metadata": {},
   "outputs": [
    {
     "data": {
      "text/html": [
       "<div>\n",
       "<style scoped>\n",
       "    .dataframe tbody tr th:only-of-type {\n",
       "        vertical-align: middle;\n",
       "    }\n",
       "\n",
       "    .dataframe tbody tr th {\n",
       "        vertical-align: top;\n",
       "    }\n",
       "\n",
       "    .dataframe thead th {\n",
       "        text-align: right;\n",
       "    }\n",
       "</style>\n",
       "<table border=\"1\" class=\"dataframe\">\n",
       "  <thead>\n",
       "    <tr style=\"text-align: right;\">\n",
       "      <th>Churn</th>\n",
       "      <th>0</th>\n",
       "      <th>1</th>\n",
       "    </tr>\n",
       "    <tr>\n",
       "      <th>Payment Method</th>\n",
       "      <th></th>\n",
       "      <th></th>\n",
       "    </tr>\n",
       "  </thead>\n",
       "  <tbody>\n",
       "    <tr>\n",
       "      <th>Credit Card</th>\n",
       "      <td>80402</td>\n",
       "      <td>20084</td>\n",
       "    </tr>\n",
       "    <tr>\n",
       "      <th>PayPal</th>\n",
       "      <td>59954</td>\n",
       "      <td>14883</td>\n",
       "    </tr>\n",
       "    <tr>\n",
       "      <th>Cash</th>\n",
       "      <td>39913</td>\n",
       "      <td>9981</td>\n",
       "    </tr>\n",
       "    <tr>\n",
       "      <th>Crypto</th>\n",
       "      <td>19857</td>\n",
       "      <td>4926</td>\n",
       "    </tr>\n",
       "  </tbody>\n",
       "</table>\n",
       "</div>"
      ],
      "text/plain": [
       "Churn               0      1\n",
       "Payment Method              \n",
       "Credit Card     80402  20084\n",
       "PayPal          59954  14883\n",
       "Cash            39913   9981\n",
       "Crypto          19857   4926"
      ]
     },
     "execution_count": 12,
     "metadata": {},
     "output_type": "execute_result"
    }
   ],
   "source": [
    "grouped_df = df.groupby(['Payment Method', 'Churn'])['Churn'].count().unstack()\n",
    "grouped_df['Total'] = grouped_df.sum(axis=1)\n",
    "grouped_df = grouped_df.sort_values(by='Total', ascending=False).drop(columns='Total')\n",
    "grouped_df"
   ]
  },
  {
   "cell_type": "code",
   "execution_count": 13,
   "metadata": {},
   "outputs": [
    {
     "data": {
      "image/png": "[encoded data removed]",
      "text/plain": [
       "<Figure size 1000x600 with 1 Axes>"
      ]
     },
     "metadata": {},
     "output_type": "display_data"
    }
   ],
   "source": [
    "ax = grouped_df.plot(kind='bar', figsize=(10, 6))\n",
    "\n",
    "for p in ax.patches:\n",
    "    ax.annotate(f'{p.get_height()}', (p.get_x() + p.get_width() / 2., p.get_height()),\n",
    "                ha='center', va='center', xytext=(0, 10), textcoords='offset points')\n",
    "\n",
    "plt.xlabel('Payment Method')\n",
    "plt.ylabel('Count')\n",
    "plt.title('Churn Count by Payment Method')\n",
    "plt.legend(title='Churn')\n",
    "plt.yticks(range(0, 90001, 10000))\n",
    "plt.xticks(rotation=0)\n",
    "plt.show()"
   ]
  },
  {
   "cell_type": "markdown",
   "metadata": {},
   "source": [
    "##### Categories and Churn"
   ]
  },
  {
   "cell_type": "code",
   "execution_count": 14,
   "metadata": {},
   "outputs": [
    {
     "data": {
      "text/html": [
       "<div>\n",
       "<style scoped>\n",
       "    .dataframe tbody tr th:only-of-type {\n",
       "        vertical-align: middle;\n",
       "    }\n",
       "\n",
       "    .dataframe tbody tr th {\n",
       "        vertical-align: top;\n",
       "    }\n",
       "\n",
       "    .dataframe thead th {\n",
       "        text-align: right;\n",
       "    }\n",
       "</style>\n",
       "<table border=\"1\" class=\"dataframe\">\n",
       "  <thead>\n",
       "    <tr style=\"text-align: right;\">\n",
       "      <th>Churn</th>\n",
       "      <th>0</th>\n",
       "      <th>1</th>\n",
       "    </tr>\n",
       "    <tr>\n",
       "      <th>Product Category</th>\n",
       "      <th></th>\n",
       "      <th></th>\n",
       "    </tr>\n",
       "  </thead>\n",
       "  <tbody>\n",
       "    <tr>\n",
       "      <th>Clothing</th>\n",
       "      <td>60154</td>\n",
       "      <td>14898</td>\n",
       "    </tr>\n",
       "    <tr>\n",
       "      <th>Books</th>\n",
       "      <td>59986</td>\n",
       "      <td>14926</td>\n",
       "    </tr>\n",
       "    <tr>\n",
       "      <th>Electronics</th>\n",
       "      <td>40206</td>\n",
       "      <td>9979</td>\n",
       "    </tr>\n",
       "    <tr>\n",
       "      <th>Home</th>\n",
       "      <td>39780</td>\n",
       "      <td>10071</td>\n",
       "    </tr>\n",
       "  </tbody>\n",
       "</table>\n",
       "</div>"
      ],
      "text/plain": [
       "Churn                 0      1\n",
       "Product Category              \n",
       "Clothing          60154  14898\n",
       "Books             59986  14926\n",
       "Electronics       40206   9979\n",
       "Home              39780  10071"
      ]
     },
     "execution_count": 14,
     "metadata": {},
     "output_type": "execute_result"
    }
   ],
   "source": [
    "grouped_df = df.groupby(['Product Category', 'Churn'])['Churn'].count().unstack()\n",
    "grouped_df['Total'] = grouped_df.sum(axis=1)\n",
    "grouped_df = grouped_df.sort_values(by='Total', ascending=False).drop(columns='Total')\n",
    "grouped_df"
   ]
  },
  {
   "cell_type": "code",
   "execution_count": 15,
   "metadata": {},
   "outputs": [
    {
     "data": {
      "image/png": "[encoded data removed]",
      "text/plain": [
       "<Figure size 1000x600 with 1 Axes>"
      ]
     },
     "metadata": {},
     "output_type": "display_data"
    }
   ],
   "source": [
    "ax = grouped_df.plot(kind='bar', figsize=(10, 6))\n",
    "\n",
    "for p in ax.patches:\n",
    "    ax.annotate(f'{p.get_height()}', (p.get_x() + p.get_width() / 2., p.get_height()),\n",
    "                ha='center', va='center', xytext=(0, 10), textcoords='offset points')\n",
    "\n",
    "plt.xlabel('Product Category')\n",
    "plt.ylabel('Count')\n",
    "plt.title('Churn Count by Product Category')\n",
    "plt.legend(title='Churn')\n",
    "plt.yticks(range(0, 70001, 10000))\n",
    "plt.xticks(rotation=0)\n",
    "plt.show()"
   ]
  },
  {
   "cell_type": "markdown",
   "metadata": {},
   "source": [
    "Infrensial Analysis"
   ]
  },
  {
   "cell_type": "code",
   "execution_count": 16,
   "metadata": {},
   "outputs": [
    {
     "name": "stdout",
     "output_type": "stream",
     "text": [
      "Chi-Square Statistic: 2.6183541636933825\n",
      "P-Value: 0.4542809070385131\n",
      "There is no significant relationship between categories and churn.\n"
     ]
    }
   ],
   "source": [
    "dfContigency = pd.crosstab(df['Product Category'], df['Churn'])\n",
    "dfContigency\n",
    "\n",
    "chi2, p, dof, expected = stats.chi2_contingency(dfContigency)\n",
    "\n",
    "print(f\"Chi-Square Statistic: {chi2}\")\n",
    "print(f\"P-Value: {p}\")\n",
    "\n",
    "if p < 0.05:\n",
    "    print(\"There is a significant relationship between categories and churn.\")\n",
    "else:\n",
    "    print(\"There is no significant relationship between categories and churn.\")"
   ]
  },
  {
   "cell_type": "markdown",
   "metadata": {},
   "source": [
    "##### Gender and Churn"
   ]
  },
  {
   "cell_type": "code",
   "execution_count": 17,
   "metadata": {},
   "outputs": [
    {
     "data": {
      "text/html": [
       "<div>\n",
       "<style scoped>\n",
       "    .dataframe tbody tr th:only-of-type {\n",
       "        vertical-align: middle;\n",
       "    }\n",
       "\n",
       "    .dataframe tbody tr th {\n",
       "        vertical-align: top;\n",
       "    }\n",
       "\n",
       "    .dataframe thead th {\n",
       "        text-align: right;\n",
       "    }\n",
       "</style>\n",
       "<table border=\"1\" class=\"dataframe\">\n",
       "  <thead>\n",
       "    <tr style=\"text-align: right;\">\n",
       "      <th>Churn</th>\n",
       "      <th>0</th>\n",
       "      <th>1</th>\n",
       "    </tr>\n",
       "    <tr>\n",
       "      <th>Gender</th>\n",
       "      <th></th>\n",
       "      <th></th>\n",
       "    </tr>\n",
       "  </thead>\n",
       "  <tbody>\n",
       "    <tr>\n",
       "      <th>Female</th>\n",
       "      <td>100920</td>\n",
       "      <td>24640</td>\n",
       "    </tr>\n",
       "    <tr>\n",
       "      <th>Male</th>\n",
       "      <td>99206</td>\n",
       "      <td>25234</td>\n",
       "    </tr>\n",
       "  </tbody>\n",
       "</table>\n",
       "</div>"
      ],
      "text/plain": [
       "Churn        0      1\n",
       "Gender               \n",
       "Female  100920  24640\n",
       "Male     99206  25234"
      ]
     },
     "execution_count": 17,
     "metadata": {},
     "output_type": "execute_result"
    }
   ],
   "source": [
    "grouped_df = df.groupby(['Gender', 'Churn'])['Churn'].count().unstack()\n",
    "grouped_df['Total'] = grouped_df.sum(axis=1)\n",
    "grouped_df = grouped_df.sort_values(by='Total', ascending=False).drop(columns='Total')\n",
    "grouped_df"
   ]
  },
  {
   "cell_type": "code",
   "execution_count": 18,
   "metadata": {},
   "outputs": [
    {
     "data": {
      "image/png": "[encoded data removed]",
      "text/plain": [
       "<Figure size 600x600 with 1 Axes>"
      ]
     },
     "metadata": {},
     "output_type": "display_data"
    }
   ],
   "source": [
    "ax = grouped_df.plot(kind='bar', figsize=(6, 6))\n",
    "\n",
    "for p in ax.patches:\n",
    "    ax.annotate(f'{p.get_height()}', (p.get_x() + p.get_width() / 2., p.get_height()),\n",
    "                ha='center', va='center', xytext=(0, 10), textcoords='offset points')\n",
    "\n",
    "plt.xlabel('Product Category')\n",
    "plt.ylabel('Count')\n",
    "plt.title('Churn Count by Product Category')\n",
    "plt.legend(title='Churn')\n",
    "plt.yticks(range(0, 110001, 10000))\n",
    "plt.xticks(rotation=0)\n",
    "plt.show()"
   ]
  },
  {
   "cell_type": "markdown",
   "metadata": {},
   "source": [
    "Infrensial Analysis"
   ]
  },
  {
   "cell_type": "code",
   "execution_count": 19,
   "metadata": {},
   "outputs": [
    {
     "name": "stdout",
     "output_type": "stream",
     "text": [
      "Chi2: 16.696090539123826, p-value: 4.387131344662204e-05\n",
      "Reject the null hypothesis: There is a significant association between gender and churn.\n",
      "Observed Frequencies:\n",
      "Churn        0      1\n",
      "Gender               \n",
      "Female  100920  24640\n",
      "Male     99206  25234\n",
      "Expected Frequencies:\n",
      "[[100511.28224  25048.71776]\n",
      " [ 99614.71776  24825.28224]]\n"
     ]
    }
   ],
   "source": [
    "contingency_table = pd.crosstab(df['Gender'], df['Churn'])\n",
    "\n",
    "# Perform the Chi-Square test\n",
    "chi2, p, dof, expected = stats.chi2_contingency(contingency_table)\n",
    "print(f\"Chi2: {chi2}, p-value: {p}\")\n",
    "\n",
    "# Interpretation\n",
    "if p < 0.05:\n",
    "    print(\"Reject the null hypothesis: There is a significant association between gender and churn.\")\n",
    "else:\n",
    "    print(\"Fail to reject the null hypothesis: There is no significant association between gender and churn.\")\n",
    "\n",
    "print(\"Observed Frequencies:\")\n",
    "print(contingency_table)\n",
    "\n",
    "print(\"Expected Frequencies:\")\n",
    "print(expected)"
   ]
  },
  {
   "cell_type": "markdown",
   "metadata": {},
   "source": [
    "untuk Female, churn (true) yang di observasi sedikit lebih rendah dari expected churn, dan churn (false) sedikit lebih tinggi dari expected churn  \n",
    "untuk Male, churn (True) yang di observasi sedikit lebih tinggi dari expected churn, dan churn (false) sedikit lebih rendah dari expected churn"
   ]
  },
  {
   "cell_type": "markdown",
   "metadata": {},
   "source": [
    "#### Supplement"
   ]
  },
  {
   "cell_type": "code",
   "execution_count": null,
   "metadata": {},
   "outputs": [
    {
     "data": {
      "text/plain": [
       "0    1\n",
       "Name: Quantity, dtype: int64"
      ]
     },
     "execution_count": 20,
     "metadata": {},
     "output_type": "execute_result"
    }
   ],
   "source": [
    "df['Quantity'].mode()"
   ]
  },
  {
   "cell_type": "code",
   "execution_count": 21,
   "metadata": {},
   "outputs": [
    {
     "data": {
      "text/plain": [
       "Quantity\n",
       "1    0.201565\n",
       "2    0.197737\n",
       "3    0.201376\n",
       "4    0.200292\n",
       "5    0.196509\n",
       "Name: Churn, dtype: float64"
      ]
     },
     "execution_count": 21,
     "metadata": {},
     "output_type": "execute_result"
    }
   ],
   "source": [
    "df.groupby('Quantity')['Churn'].mean()"
   ]
  },
  {
   "cell_type": "code",
   "execution_count": 24,
   "metadata": {},
   "outputs": [
    {
     "name": "stdout",
     "output_type": "stream",
     "text": [
      "The month with the highest churn rate is February with a churn rate of 20.34%\n"
     ]
    }
   ],
   "source": [
    "temp = df.copy()\n",
    "temp['Month'] = temp['Purchase Date'].dt.strftime('%B')\n",
    "\n",
    "monthly_churn = temp.groupby('Month')['Churn'].agg(['sum', 'count'])\n",
    "monthly_churn['ChurnRate'] = monthly_churn['sum'] / monthly_churn['count']\n",
    "\n",
    "# Find the month with the highest churn rate\n",
    "highest_churn_month = monthly_churn['ChurnRate'].idxmax()\n",
    "highest_churn_rate = monthly_churn['ChurnRate'].max()\n",
    "\n",
    "print(f\"The month with the highest churn rate is {highest_churn_month} with a churn rate of {highest_churn_rate:.2%}\")"
   ]
  },
  {
   "cell_type": "code",
   "execution_count": 26,
   "metadata": {},
   "outputs": [
    {
     "data": {
      "text/plain": [
       "0    58\n",
       "Name: Customer Age, dtype: int64"
      ]
     },
     "execution_count": 26,
     "metadata": {},
     "output_type": "execute_result"
    }
   ],
   "source": [
    "df['Customer Age'].mode()"
   ]
  },
  {
   "cell_type": "code",
   "execution_count": 29,
   "metadata": {},
   "outputs": [
    {
     "data": {
      "text/plain": [
       "np.float64(0.20882411659013775)"
      ]
     },
     "execution_count": 29,
     "metadata": {},
     "output_type": "execute_result"
    }
   ],
   "source": [
    "df.groupby('Customer Age')['Churn'].mean()[58]"
   ]
  },
  {
   "cell_type": "code",
   "execution_count": 32,
   "metadata": {},
   "outputs": [
    {
     "data": {
      "text/plain": [
       "np.float64(0.199496)"
      ]
     },
     "execution_count": 32,
     "metadata": {},
     "output_type": "execute_result"
    }
   ],
   "source": [
    "Q1 = df['Product Price'].quantile(0.25)\n",
    "Q3 = df['Product Price'].quantile(0.75)\n",
    "IQR = Q3 - Q1\n",
    "lower_bound = Q1 - 1.5 * IQR\n",
    "upper_bound = Q3 + 1.5 * IQR\n",
    "\n",
    "# Filter out the outliers\n",
    "df_filtered = df[(df['Product Price'] >= lower_bound) & (df['Product Price'] <= upper_bound)]\n",
    "df_filtered['Churn'].mean()"
   ]
  },
  {
   "cell_type": "code",
   "execution_count": 33,
   "metadata": {},
   "outputs": [
    {
     "data": {
      "text/plain": [
       "np.float64(0.199496)"
      ]
     },
     "execution_count": 33,
     "metadata": {},
     "output_type": "execute_result"
    }
   ],
   "source": [
    "Q1 = df['Total Purchase Amount'].quantile(0.25)\n",
    "Q3 = df['Total Purchase Amount'].quantile(0.75)\n",
    "IQR = Q3 - Q1\n",
    "lower_bound = Q1 - 1.5 * IQR\n",
    "upper_bound = Q3 + 1.5 * IQR\n",
    "\n",
    "# Filter out the outliers\n",
    "df_filtered = df[(df['Total Purchase Amount'] >= lower_bound) & (df['Total Purchase Amount'] <= upper_bound)]\n",
    "df_filtered['Churn'].mean()"
   ]
  },
  {
   "cell_type": "code",
   "execution_count": 37,
   "metadata": {},
   "outputs": [
    {
     "data": {
      "text/plain": [
       "Customer Name\n",
       "Michael Smith        107\n",
       "John Smith           103\n",
       "Jennifer Smith       102\n",
       "Michael Johnson       98\n",
       "Lisa Smith            97\n",
       "James Smith           95\n",
       "Christopher Smith     83\n",
       "Michael Brown         79\n",
       "James Brown           76\n",
       "Jennifer Williams     74\n",
       "Name: Churn, dtype: int64"
      ]
     },
     "execution_count": 37,
     "metadata": {},
     "output_type": "execute_result"
    }
   ],
   "source": [
    "df.groupby('Customer Name')['Churn'].count().sort_values(ascending=False).head(10)"
   ]
  },
  {
   "cell_type": "markdown",
   "metadata": {},
   "source": [
    "### 12. Ada Kesimpulan dan Rekomendasi "
   ]
  },
  {
   "cell_type": "markdown",
   "metadata": {},
   "source": [
    "#### Kesimpulan\n",
    "- Walaupun Persentase terjadinya Churn pada setiap Category Hampir sama (~20%). Pengurangan Churn pada Books dan Clothing lebih prioritas daripada electronics dan home, Karena Jumlah Transaksinya ~60% terjadinya Churn terjadi pada Category Books Dan Clothing\n",
    "- Seperti pada Category, Payment method juga memiliki rata-rata churn yang hampir sama yaitu ~20%. Tetapi karena jumlah transaksinya jauh lebih banyak daripada payment method lainnya (~40%), Credit Card merupakan payment method yang diprioritaskan untuk pengurangan Churn\n",
    "- Quantity dengan keadaannya yang ada pada saat ini tidak mempengaruhi Churn\n",
    "- Gender Male memiliki kecenderungan Untuk Churn lebih besar ~4% daripada Gender Female. \n",
    "\n",
    "#### Rekomendasi\n",
    "- Kategori Produk  \n",
    "Meningkatkan promosi dan penawaran khusus bagi pelanggan yang membeli kategori Buku dan Clothing.   \n",
    "Menambahkan layanan rekomendasi buku atau pakaian yang lebih personal.  \n",
    "Memberikan diskon untuk pembelian berulang atau insentif loyalitas.  \n",
    "- Harga Produk  \n",
    "Memberikan paket bundling untuk meningkatkan nilai produk.  \n",
    "Menawarkan program pembayaran cicilan atau diskon untuk kategori harga tersebut.  \n",
    "Mengadakan survei kepuasan pelanggan untuk memahami lebih lanjut alasan churn di segmen ini.  \n",
    "- Metode Pembayaran  \n",
    "Menawarkan cashback atau rewards poin untuk pembelian menggunakan kartu kredit.  \n",
    "Mengurangi biaya tambahan (seperti biaya transaksi) yang mungkin menjadi alasan churn.  \n",
    "Mengedukasi pelanggan tentang kemudahan pembayaran otomatis untuk mengurangi churn yang disebabkan oleh keterlambatan pembayaran.  \n",
    "- Customer Gender  \n",
    "Membuat marketing campaigns yang secara spesific menargetkan male customer dengan content dan promosi yang relevan  \n",
    "Menyediakan discount, rewards, atau loyalty program yang lebih ditargetkan  \n",
    "Menawarkan support representatives untuk male customer  \n",
    "\n",
    "\n"
   ]
  },
  {
   "cell_type": "markdown",
   "metadata": {},
   "source": [
    "### 13. Harus ada Impact Bisnis nya : Jelaskan Kondisi Before & After jika melakukan Rekomendasi yg diberikan (Apa untungnya buat perusahaan/stakeholder). "
   ]
  },
  {
   "cell_type": "markdown",
   "metadata": {},
   "source": [
    "sebelum melakukan hal-hal yang telah rekomendasikan churn rate dari ecommerce ini lumayan besar yaitu ~20%. setelah melakukan rekomendasi yang telah diberikan harapannya adalah churn rate dari ecommerce ini berkurang menjadi 5-10%\n",
    "\n",
    "source : https://gocardless.com/guides/posts/guide-to-churn-in-ecommerce/#:~:text=As%20a%20rule%20of%20thumb%2C%20a%20healthy%20customer,that%20you%E2%80%99re%20still%20working%20to%20win%20new%20customers"
   ]
  },
  {
   "cell_type": "markdown",
   "metadata": {},
   "source": [
    "### 14. Upload Jupyter ke Github masing – masing dg nama Repo : Exploratory Data Analysis …. (Sesuai Kasus) : Contoh – Exploratory Data Analysis Customer Churn "
   ]
  },
  {
   "cell_type": "markdown",
   "metadata": {},
   "source": [
    "### 15. Buat Dashboard Menggunakan Looker "
   ]
  },
  {
   "cell_type": "markdown",
   "metadata": {},
   "source": [
    "### 16. Tambahkan Readme di github "
   ]
  },
  {
   "cell_type": "markdown",
   "metadata": {},
   "source": [
    "### 17. Buat File Presentasi "
   ]
  },
  {
   "cell_type": "markdown",
   "metadata": {},
   "source": [
    "### 18. Submit File presentasi – Sertakan Informasi Nama Anggota + Masing-masing Link Repository Github + Masing-masing Link Dashboard Looker"
   ]
  }
 ],
 "metadata": {
  "kernelspec": {
   "display_name": "Python 3",
   "language": "python",
   "name": "python3"
  },
  "language_info": {
   "codemirror_mode": {
    "name": "ipython",
    "version": 3
   },
   "file_extension": ".py",
   "mimetype": "text/x-python",
   "name": "python",
   "nbconvert_exporter": "python",
   "pygments_lexer": "ipython3",
   "version": "3.10.4"
  }
 },
 "nbformat": 4,
 "nbformat_minor": 2
}
